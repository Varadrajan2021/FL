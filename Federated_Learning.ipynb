{
  "nbformat": 4,
  "nbformat_minor": 0,
  "metadata": {
    "colab": {
      "provenance": []
    },
    "kernelspec": {
      "name": "python3",
      "display_name": "Python 3"
    },
    "language_info": {
      "name": "python"
    },
    "accelerator": "TPU"
  },
  "cells": [
    {
      "cell_type": "code",
      "execution_count": 1,
      "metadata": {
        "id": "BZNP22Fdi0_0"
      },
      "outputs": [],
      "source": [
        "import numpy as np\n",
        "import tensorflow as tf\n",
        "from tensorflow.keras.datasets import mnist\n",
        "from tensorflow.keras.models import Sequential\n",
        "from tensorflow.keras.layers import Dense, Flatten\n",
        "from tensorflow.keras.optimizers import SGD\n"
      ]
    },
    {
      "cell_type": "code",
      "source": [
        "def create_model():\n",
        "    model = Sequential([\n",
        "        Flatten(input_shape=(28, 28)),\n",
        "        Dense(128, activation='relu'),\n",
        "        Dense(10, activation='softmax')\n",
        "    ])\n",
        "\n",
        "# # from tensorflow.keras.layers import Dropout\n",
        "# # from tensorflow.keras import regularizers\n",
        "# # def create_model():\n",
        "# #     model = Sequential([\n",
        "# #         Flatten(input_shape=(28, 28)),\n",
        "# #         Dense(256, activation='relu'),\n",
        "# #         Dropout(0.2),  # New dropout layer\n",
        "# #         Dense(128, activation='relu', kernel_regularizer=regularizers.l2(0.01)),  # New regularizer\n",
        "# #         Dense(10, activation='softmax')\n",
        "# #     ])\n",
        "    model.compile(optimizer='sgd', loss='sparse_categorical_crossentropy', metrics=['accuracy'])\n",
        "    return model\n",
        "\n",
        "\n",
        "# from tensorflow.keras.layers import Conv2D, MaxPooling2D, Dropout, BatchNormalization\n",
        "\n",
        "# def create_model():\n",
        "#     model = Sequential([\n",
        "#         # Reshape the input to be 28x28x1 (as required for Conv2D layers)\n",
        "#         tf.keras.layers.Reshape(target_shape=(28, 28, 1), input_shape=(28, 28)),\n",
        "\n",
        "#         # First Convolutional Block\n",
        "#         Conv2D(32, kernel_size=(3, 3), activation='relu'),\n",
        "#         BatchNormalization(),\n",
        "#         MaxPooling2D(pool_size=(2, 2)),\n",
        "#         Dropout(0.25),\n",
        "\n",
        "#         # Second Convolutional Block\n",
        "#         Conv2D(64, kernel_size=(3, 3), activation='relu'),\n",
        "#         BatchNormalization(),\n",
        "#         MaxPooling2D(pool_size=(2, 2)),\n",
        "#         Dropout(0.25),\n",
        "\n",
        "#         # Flattening the layers\n",
        "#         Flatten(),\n",
        "\n",
        "#         # Fully Connected Layer\n",
        "#         Dense(128, activation='relu'),\n",
        "#         Dropout(0.5),\n",
        "\n",
        "#         # Output Layer\n",
        "#         Dense(10, activation='softmax')\n",
        "#     ])\n",
        "\n",
        "#     model.compile(optimizer='sgd', loss='sparse_categorical_crossentropy', metrics=['accuracy'])\n",
        "#     return model\n"
      ],
      "metadata": {
        "id": "DdKLuRV7PVj-"
      },
      "execution_count": 2,
      "outputs": []
    },
    {
      "cell_type": "markdown",
      "source": [
        "Load and Preprocess the Dataset:\n",
        "\n",
        "Load the MNIST dataset and split it into several partitions to simulate different clients."
      ],
      "metadata": {
        "id": "KxrcoyaHjg30"
      }
    },
    {
      "cell_type": "code",
      "source": [
        "(x_train, y_train), (x_test, y_test) = mnist.load_data()\n",
        "x_train, x_test = x_train / 255.0, x_test / 255.0  # Normalize data\n",
        "\n",
        "# # Split training data into 'n_clients' to simulate a federated setting\n",
        "# n_clients = 5\n",
        "# client_data_size = len(x_train) // n_clients\n",
        "# client_train_datasets = [((x_train[i*client_data_size:(i+1)*client_data_size],\n",
        "#                            y_train[i*client_data_size:(i+1)*client_data_size])) for i in range(n_clients)]\n",
        "\n",
        "# Initialize clients and train models\n",
        "n_clients = 5\n",
        "client_data_size = len(x_train) // n_clients\n",
        "client_models = [create_model() for _ in range(n_clients)]\n",
        "client_train_datasets = [\n",
        "    (x_train[i*client_data_size:(i+1)*client_data_size], y_train[i*client_data_size:(i+1)*client_data_size])\n",
        "    for i in range(n_clients)\n",
        "]\n"
      ],
      "metadata": {
        "id": "Moyjir2cjck2",
        "colab": {
          "base_uri": "https://localhost:8080/"
        },
        "outputId": "e72020e9-66da-412c-b964-ed9bae31393e"
      },
      "execution_count": 3,
      "outputs": [
        {
          "output_type": "stream",
          "name": "stdout",
          "text": [
            "Downloading data from https://storage.googleapis.com/tensorflow/tf-keras-datasets/mnist.npz\n",
            "11490434/11490434 [==============================] - 0s 0us/step\n"
          ]
        }
      ]
    },
    {
      "cell_type": "code",
      "source": [
        "# Track accuracy and loss for visualization\n",
        "global_history = {'accuracy': [], 'loss': []}"
      ],
      "metadata": {
        "id": "cJiK0Lnt_qSO"
      },
      "execution_count": 4,
      "outputs": []
    },
    {
      "cell_type": "code",
      "source": [
        "from matplotlib import pyplot\n",
        "for i in range(9):\n",
        "  pyplot.subplot(330 + 1 + i)\n",
        "  pyplot.imshow(x_train[i], cmap=pyplot.get_cmap('gray'))\n",
        "pyplot.show()"
      ],
      "metadata": {
        "id": "T3subnNFk5g2",
        "colab": {
          "base_uri": "https://localhost:8080/",
          "height": 433
        },
        "outputId": "72d0eedd-e0f1-4ecb-f64d-76af10d7cea1"
      },
      "execution_count": 5,
      "outputs": [
        {
          "output_type": "display_data",
          "data": {
            "text/plain": [
              "<Figure size 640x480 with 9 Axes>"
            ],
            "image/png": "[encoded data removed]"
          },
          "metadata": {}
        }
      ]
    },
    {
      "cell_type": "markdown",
      "source": [
        "Define the Model Creation Function:\n",
        "\n",
        "This function will be used to create a new model for each client."
      ],
      "metadata": {
        "id": "YuctPXy6jlOd"
      }
    },
    {
      "cell_type": "code",
      "source": [
        "# Evaluate the initial global model before training\n",
        "initial_global_model = create_model()  # A fresh model that hasn't been trained\n",
        "initial_loss, initial_accuracy = initial_global_model.evaluate(x_test, y_test, verbose=0)\n",
        "print(f\"Initial Global model accuracy: {initial_accuracy*100:.2f}%\")"
      ],
      "metadata": {
        "colab": {
          "base_uri": "https://localhost:8080/"
        },
        "id": "LwGE-OfSAl9F",
        "outputId": "71197923-a58d-44ba-e34a-9fbf158b241d"
      },
      "execution_count": 6,
      "outputs": [
        {
          "output_type": "stream",
          "name": "stdout",
          "text": [
            "Initial Global model accuracy: 7.08%\n"
          ]
        }
      ]
    },
    {
      "cell_type": "markdown",
      "source": [],
      "metadata": {
        "id": "xtSUWdQ3AlFk"
      }
    },
    {
      "cell_type": "markdown",
      "source": [
        "Train Models on Each Client:\n",
        "\n",
        "Train a separate model on each client's data."
      ],
      "metadata": {
        "id": "H5GinAbpjp84"
      }
    },
    {
      "cell_type": "code",
      "source": [
        "# client_models = [create_model() for _ in range(n_clients)]\n",
        "\n",
        "# for client_model, client_data in zip(client_models, client_train_datasets):\n",
        "#     x, y = client_data\n",
        "#     client_model.fit(x, y, epochs=5)\n",
        "# Train each client model and collect their histories\n",
        "for client_model, client_data in zip(client_models, client_train_datasets):\n",
        "    x, y = client_data\n",
        "    history = client_model.fit(x, y, epochs=5, verbose=0)\n",
        "    global_history['accuracy'].append(history.history['accuracy'])\n",
        "    global_history['loss'].append(history.history['loss'])"
      ],
      "metadata": {
        "id": "w3bxJ7trjnKV"
      },
      "execution_count": 7,
      "outputs": []
    },
    {
      "cell_type": "code",
      "source": [
        "global_history['accuracy']"
      ],
      "metadata": {
        "colab": {
          "base_uri": "https://localhost:8080/"
        },
        "id": "qVMOFI2z_DT4",
        "outputId": "e992630b-132a-4e05-8aee-3471b7244c54"
      },
      "execution_count": 8,
      "outputs": [
        {
          "output_type": "execute_result",
          "data": {
            "text/plain": [
              "[[0.690500020980835,\n",
              "  0.8552500009536743,\n",
              "  0.8793333172798157,\n",
              "  0.8913333415985107,\n",
              "  0.8987500071525574],\n",
              " [0.6827499866485596,\n",
              "  0.8576666712760925,\n",
              "  0.8793333172798157,\n",
              "  0.8895833492279053,\n",
              "  0.8976666927337646],\n",
              " [0.6708333492279053,\n",
              "  0.8500000238418579,\n",
              "  0.8735833168029785,\n",
              "  0.8849166631698608,\n",
              "  0.8931666612625122],\n",
              " [0.6738333106040955,\n",
              "  0.8451666831970215,\n",
              "  0.8710833191871643,\n",
              "  0.8849166631698608,\n",
              "  0.8917499780654907],\n",
              " [0.6932500004768372,\n",
              "  0.859666645526886,\n",
              "  0.8819166421890259,\n",
              "  0.8933333158493042,\n",
              "  0.9002500176429749]]"
            ]
          },
          "metadata": {},
          "execution_count": 8
        }
      ]
    },
    {
      "cell_type": "code",
      "source": [
        "# from google.colab import files\n",
        "# from PIL import Image\n",
        "# import io\n",
        "\n",
        "# def upload_and_predict(model):\n",
        "#     uploaded = files.upload()\n",
        "\n",
        "#     # Assuming the user uploads one image file\n",
        "#     for fn in uploaded.keys():\n",
        "#         # Open the image\n",
        "#         path = io.BytesIO(uploaded[fn])\n",
        "#         img = Image.open(path).convert('L')  # convert to grayscale\n",
        "#         img = img.resize((28, 28))  # resize to 28x28 pixels\n",
        "\n",
        "#         # Preprocess the image\n",
        "#         img_array = np.array(img)\n",
        "#         img_array = img_array.reshape(1, 28, 28) / 255.0  # Normalize the image\n",
        "\n",
        "#         # Predict the digit\n",
        "#         prediction = model.predict(img_array)\n",
        "#         predicted_digit = np.argmax(prediction)\n",
        "#         print(f\"Predicted Digit: {predicted_digit}\")"
      ],
      "metadata": {
        "id": "aKev5XOWFZW9"
      },
      "execution_count": null,
      "outputs": []
    },
    {
      "cell_type": "code",
      "source": [
        "# for client_model in client_models:\n",
        "#   upload_and_predict(client_model)"
      ],
      "metadata": {
        "id": "yBd5dOqMFdrX"
      },
      "execution_count": null,
      "outputs": []
    },
    {
      "cell_type": "code",
      "source": [
        "# initial_global_model = create_model()  # A fresh model that hasn't been trained\n",
        "# initial_loss, initial_accuracy = initial_global_model.evaluate(x_test, y_test, verbose=0)\n",
        "# print(f\"Initial Global model accuracy: {initial_accuracy*100:.2f}%\")"
      ],
      "metadata": {
        "id": "4EYRfZeBC6UP"
      },
      "execution_count": null,
      "outputs": []
    },
    {
      "cell_type": "markdown",
      "source": [
        "Aggregate the Models:\n",
        "\n",
        "This is a simple way to aggregate the models by averaging their weights."
      ],
      "metadata": {
        "id": "yAyGQQhdj3N-"
      }
    },
    {
      "cell_type": "code",
      "source": [
        "# global_weights = [np.array(weights) for weights in client_models[0].get_weights()]\n",
        "\n",
        "# for client_model in client_models[1:]:\n",
        "#     for i, weights in enumerate(client_model.get_weights()):\n",
        "#         global_weights[i] += np.array(weights)\n",
        "\n",
        "# global_weights = [weights / n_clients for weights in global_weights]\n",
        "\n",
        "# # Create a new global model\n",
        "# global_model = create_model()\n",
        "# global_model.set_weights(global_weights)\n",
        "\n",
        "# Create a global model and set its weights to the average of the client models\n",
        "global_model = create_model()\n",
        "global_weights = [np.array(weights) for weights in client_models[0].get_weights()]\n",
        "for client_model in client_models[1:]:\n",
        "    for i, weights in enumerate(client_model.get_weights()):\n",
        "        global_weights[i] += np.array(weights)\n",
        "global_weights = [weights / n_clients for weights in global_weights]\n",
        "global_model.set_weights(global_weights)\n"
      ],
      "metadata": {
        "id": "ALKSdt-lju8n"
      },
      "execution_count": 9,
      "outputs": []
    },
    {
      "cell_type": "code",
      "source": [
        "# # Update each client model with the weights of the global model\n",
        "# for client_model in client_models:\n",
        "#     client_model.set_weights(global_model.get_weights())\n",
        "\n",
        "# # Optionally, you can re-evaluate each client model to see the improvement\n",
        "# for i, client_model in enumerate(client_models):\n",
        "#     loss, accuracy = client_model.evaluate(x_test, y_test, verbose=0)\n",
        "#     print(f\"Client {i+1} Model Accuracy after Global Update: {accuracy:.4f}\")"
      ],
      "metadata": {
        "id": "HY3XepYgEqNA"
      },
      "execution_count": null,
      "outputs": []
    },
    {
      "cell_type": "code",
      "source": [
        "# from google.colab import files\n",
        "# from PIL import Image\n",
        "# import io\n",
        "\n",
        "# def upload_and_predict(model):\n",
        "#     uploaded = files.upload()\n",
        "\n",
        "#     # Assuming the user uploads one image file\n",
        "#     for fn in uploaded.keys():\n",
        "#         # Open the image\n",
        "#         path = io.BytesIO(uploaded[fn])\n",
        "#         img = Image.open(path).convert('L')  # convert to grayscale\n",
        "#         img = img.resize((28, 28))  # resize to 28x28 pixels\n",
        "\n",
        "#         # Preprocess the image\n",
        "#         img_array = np.array(img)\n",
        "#         img_array = img_array.reshape(1, 28, 28) / 255.0  # Normalize the image\n",
        "\n",
        "#         # Predict the digit\n",
        "#         prediction = model.predict(img_array)\n",
        "#         predicted_digit = np.argmax(prediction)\n",
        "#         print(f\"Predicted Digit: {predicted_digit}\")"
      ],
      "metadata": {
        "id": "tBBZdnGMGEb8"
      },
      "execution_count": 10,
      "outputs": []
    },
    {
      "cell_type": "code",
      "source": [
        "# for client_model in client_models:\n",
        "#   loss, accuracy = client_model.evaluate(x_test, y_test, verbose=0)\n",
        "#   print(accuracy)\n",
        "#   upload_and_predict(client_model)"
      ],
      "metadata": {
        "id": "_TrDzwwUGIXT"
      },
      "execution_count": null,
      "outputs": []
    },
    {
      "cell_type": "code",
      "source": [
        "# pre_update_accuracies = []\n",
        "# post_update_accuracies = []\n"
      ],
      "metadata": {
        "id": "8iEUctY-I6OS"
      },
      "execution_count": null,
      "outputs": []
    },
    {
      "cell_type": "markdown",
      "source": [
        "Federated Training/Averaging"
      ],
      "metadata": {
        "id": "QzwkkHQHFn8a"
      }
    },
    {
      "cell_type": "code",
      "source": [
        "# num_rounds = 5  # You can adjust this number based on your requirements\n",
        "# for round in range(num_rounds):\n",
        "#     print(f\"Round {round + 1}/{num_rounds}\")\n",
        "\n",
        "#     # Train each client model and collect their histories\n",
        "#     for client_model, client_data in zip(client_models, client_train_datasets):\n",
        "#         x, y = client_data\n",
        "#         history = client_model.fit(x, y, epochs=5, verbose=0)\n",
        "#         global_history['accuracy'].append(history.history['accuracy'])\n",
        "#         global_history['loss'].append(history.history['loss'])\n",
        "\n",
        "#     # Aggregate the models to create a new global model\n",
        "#     global_weights = [np.array(weights) for weights in client_models[0].get_weights()]\n",
        "#     for client_model in client_models[1:]:\n",
        "#         for i, weights in enumerate(client_model.get_weights()):\n",
        "#             global_weights[i] += np.array(weights)\n",
        "#     global_weights = [weights / n_clients for weights in global_weights]\n",
        "\n",
        "#     # Update the global model with the new weights\n",
        "#     global_model = create_model()\n",
        "#     global_model.set_weights(global_weights)\n",
        "\n",
        "#     # Optionally evaluate the global model at each round\n",
        "#     loss, accuracy = global_model.evaluate(x_test, y_test, verbose=0)\n",
        "#     print(f\"Accuracy after round {round + 1}: {accuracy*100:.2f}%\")\n",
        "\n",
        "#     # Distribute the global model weights back to each client\n",
        "#     for client_model in client_models:\n",
        "#         client_model.set_weights(global_weights)\n",
        "\n",
        "\n",
        "\n",
        "# num_rounds = 5  # Number of federated learning rounds\n",
        "# for round in range(num_rounds):\n",
        "#     print(f\"Round {round + 1}/{num_rounds}\")\n",
        "\n",
        "#     # Evaluate each client model before updating with global weights\n",
        "#     for i, client_model in enumerate(client_models):\n",
        "#         loss, accuracy = client_model.evaluate(x_test, y_test, verbose=0)\n",
        "#         pre_update_accuracies.append(accuracy)\n",
        "\n",
        "#     # Train each client model\n",
        "#     for client_model, client_data in zip(client_models, client_train_datasets):\n",
        "#         x, y = client_data\n",
        "#         client_model.fit(x, y, epochs=5, verbose=0)\n",
        "\n",
        "#     # Aggregate the models to create a new global model\n",
        "#     global_weights = [np.array(weights) for weights in client_models[0].get_weights()]\n",
        "#     for client_model in client_models[1:]:\n",
        "#         for i, weights in enumerate(client_model.get_weights()):\n",
        "#             global_weights[i] += np.array(weights)\n",
        "#     global_weights = [weights / n_clients for weights in global_weights]\n",
        "\n",
        "#     # Update the global model with the new weights\n",
        "#     global_model = create_model()\n",
        "#     global_model.set_weights(global_weights)\n",
        "\n",
        "#     # Distribute the global model weights back to each client\n",
        "#     for client_model in client_models:\n",
        "#         client_model.set_weights(global_weights)\n",
        "\n",
        "#     # Evaluate each client model after updating with global weights\n",
        "#     for i, client_model in enumerate(client_models):\n",
        "#         loss, accuracy = client_model.evaluate(x_test, y_test, verbose=0)\n",
        "#         post_update_accuracies.append(accuracy)"
      ],
      "metadata": {
        "id": "HVSDtiyFFkTq"
      },
      "execution_count": null,
      "outputs": []
    },
    {
      "cell_type": "code",
      "source": [
        "# # After all rounds are completed, print out the accuracies\n",
        "# print(\"Client Model Accuracies:\")\n",
        "# print(\"Round\", *[f\"Client {i+1}\" for i in range(n_clients)], sep='\\t')\n",
        "\n",
        "# for round in range(num_rounds):\n",
        "#     print(f\"{round+1}\", end='\\t')\n",
        "#     for i in range(n_clients):\n",
        "#         pre_accuracy = pre_update_accuracies[i*num_rounds + round]\n",
        "#         post_accuracy = post_update_accuracies[i*num_rounds + round]\n",
        "#         print(f\"{pre_accuracy:.4f} -> {post_accuracy:.4f}\", end='\\t')\n",
        "#     print()  # Newline for the next round\n"
      ],
      "metadata": {
        "id": "SNeP2XAyOmzw"
      },
      "execution_count": null,
      "outputs": []
    },
    {
      "cell_type": "code",
      "source": [
        "# import matplotlib.pyplot as plt\n",
        "# # # Plot the accuracies before and after each round\n",
        "# # plt.figure(figsize=(12, 6))\n",
        "# # rounds = np.arange(1, num_rounds + 1)\n",
        "# # for i in range(n_clients):\n",
        "# #     plt.plot(rounds, pre_update_accuracies[i*num_rounds:(i+1)*num_rounds], label=f'Client {i+1} Pre-Update', marker='o')\n",
        "# #     plt.plot(rounds, post_update_accuracies[i*num_rounds:(i+1)*num_rounds], label=f'Client {i+1} Post-Update', marker='x')\n",
        "\n",
        "# # plt.xlabel('Rounds')\n",
        "# # plt.ylabel('Accuracy')\n",
        "# # plt.title('Client Model Accuracies Before and After Updating with Global Weights')\n",
        "# # plt.legend()\n",
        "# # plt.xticks(rounds)\n",
        "# # plt.show()\n",
        "# # Determine the number of rows needed for subplots based on the number of clients\n",
        "# num_rows = n_clients // 2 + n_clients % 2\n",
        "# fig, axs = plt.subplots(num_rows, 2, figsize=(14, num_rows*4))  # Adjust the figure size as needed\n",
        "# axs = axs.flatten()  # Flatten the array of axes for easy indexing\n",
        "\n",
        "# for i in range(n_clients):\n",
        "#     # Extract the accuracy for the current client across all rounds\n",
        "#     client_pre_update_accuracies = pre_update_accuracies[i*num_rounds:(i+1)*num_rounds]\n",
        "#     client_post_update_accuracies = post_update_accuracies[i*num_rounds:(i+1)*num_rounds]\n",
        "\n",
        "#     # Plot on the ith subplot\n",
        "#     axs[i].plot(rounds, client_pre_update_accuracies, label='Pre-Update', marker='o', linestyle='-')\n",
        "#     axs[i].plot(rounds, client_post_update_accuracies, label='Post-Update', marker='x', linestyle='--')\n",
        "\n",
        "#     axs[i].set_title(f'Client {i+1} Model Accuracy')\n",
        "#     axs[i].set_xlabel('Rounds')\n",
        "#     axs[i].set_ylabel('Accuracy')\n",
        "#     axs[i].legend()\n",
        "#     axs[i].set_xticks(rounds)  # Ensure all plots have the same x-axis ticks\n",
        "\n",
        "# # If the number of clients is odd, hide the last subplot (if unused)\n",
        "# if n_clients % 2 != 0:\n",
        "#     axs[-1].axis('off')\n",
        "\n",
        "# plt.tight_layout()  # Adjust subplots to fit into the figure area.\n",
        "# plt.show()\n"
      ],
      "metadata": {
        "id": "AJzOgo99JiZ7"
      },
      "execution_count": null,
      "outputs": []
    },
    {
      "cell_type": "markdown",
      "source": [
        "Evaluate the Global Model:"
      ],
      "metadata": {
        "id": "cY2MQGwUj8Cb"
      }
    },
    {
      "cell_type": "code",
      "source": [
        "# loss, accuracy = global_model.evaluate(x_test, y_test)\n",
        "# print(f\"Global model accuracy: {accuracy*100:.2f}%\")\n",
        "\n",
        "import matplotlib.pyplot as plt\n",
        "\n",
        "\n",
        "# Evaluate the final global model after federated training\n",
        "final_loss, final_accuracy = global_model.evaluate(x_test, y_test, verbose=0)\n",
        "print(f\"Final Global model accuracy after federated training: {final_accuracy*100:.2f}%\")\n",
        "\n",
        "# Now you can plot the initial and final accuracy to show the improvement\n",
        "plt.bar(['Initial Accuracy', 'Final Accuracy'], [initial_accuracy, final_accuracy])\n",
        "plt.title('Comparison of Global Model Accuracies')\n",
        "plt.xlabel('Model')\n",
        "plt.ylabel('Accuracy')\n",
        "plt.show()"
      ],
      "metadata": {
        "colab": {
          "base_uri": "https://localhost:8080/",
          "height": 489
        },
        "id": "R9S8jj9tj6Uq",
        "outputId": "0b26cee1-d67d-4a11-9af1-ae20919ffa8d"
      },
      "execution_count": 12,
      "outputs": [
        {
          "output_type": "stream",
          "name": "stdout",
          "text": [
            "Final Global model accuracy after federated training: 70.59%\n"
          ]
        },
        {
          "output_type": "display_data",
          "data": {
            "text/plain": [
              "<Figure size 640x480 with 1 Axes>"
            ],
            "image/png": "[encoded data removed]"
          },
          "metadata": {}
        }
      ]
    },
    {
      "cell_type": "code",
      "source": [
        "from google.colab import files\n",
        "from PIL import Image\n",
        "import io\n",
        "\n",
        "def upload_and_predict(model):\n",
        "    uploaded = files.upload()\n",
        "\n",
        "    # Assuming the user uploads one image file\n",
        "    for fn in uploaded.keys():\n",
        "        # Open the image\n",
        "        path = io.BytesIO(uploaded[fn])\n",
        "        img = Image.open(path).convert('L')  # convert to grayscale\n",
        "        img = img.resize((28, 28))  # resize to 28x28 pixels\n",
        "\n",
        "        # Preprocess the image\n",
        "        img_array = np.array(img)\n",
        "        img_array = img_array.reshape(1, 28, 28) / 255.0  # Normalize the image\n",
        "\n",
        "        # Predict the digit\n",
        "        prediction = model.predict(img_array)\n",
        "        predicted_digit = np.argmax(prediction)\n",
        "        print(f\"Predicted Digit: {predicted_digit}\")\n",
        "# from google.colab import files\n",
        "# from PIL import Image\n",
        "# import numpy as np\n",
        "# import io\n",
        "\n",
        "# def upload_and_predict(model):\n",
        "#     uploaded = files.upload()\n",
        "\n",
        "#     for fn in uploaded.keys():\n",
        "#         # Open the image and convert to grayscale\n",
        "#         path = io.BytesIO(uploaded[fn])\n",
        "#         img = Image.open(path).convert('L')\n",
        "\n",
        "#         # MNIST images are white on black, so we invert the image if it is black on white\n",
        "#         # This is done by checking if the mean color is closer to black or white\n",
        "#         if np.mean(img) > 127.5:\n",
        "#             img = Image.fromarray(255 - np.array(img))\n",
        "\n",
        "#         # Resize the image to 28x28 pixels\n",
        "#         img = img.resize((28, 28))\n",
        "\n",
        "#         # Convert the image to a numpy array and normalize it\n",
        "#         img_array = np.array(img)\n",
        "#         img_array = img_array.reshape(1, 28, 28) / 255.0\n",
        "\n",
        "#         # Predict the digit\n",
        "#         prediction = model.predict(img_array)\n",
        "#         predicted_digit = np.argmax(prediction)\n",
        "#         print(f\"Predicted Digit: {predicted_digit}\")\n",
        "\n",
        "# from google.colab import files\n",
        "# from PIL import Image, ImageOps\n",
        "# import io\n",
        "# import numpy as np\n",
        "\n",
        "# def upload_and_predict(model):\n",
        "#     uploaded = files.upload()\n",
        "\n",
        "#     for fn in uploaded.keys():\n",
        "#         path = io.BytesIO(uploaded[fn])\n",
        "#         img = Image.open(path).convert('L')\n",
        "\n",
        "#         # Invert image colors to match MNIST if necessary\n",
        "#         if np.mean(img) > 127.5:  # If the image is light on dark background\n",
        "#             img = ImageOps.invert(img)\n",
        "\n",
        "#         # Resize to 28x28 pixels\n",
        "#         img = img.resize((28, 28), Image.Resampling.LANCZOS)\n",
        "\n",
        "#         # Convert to numpy array and normalize\n",
        "#         img_array = np.array(img) / 255.0\n",
        "#         img_array = img_array.reshape(1, 28, 28, 1)  # Reshape for the model\n",
        "\n",
        "#         # Predict the digit\n",
        "#         prediction = model.predict(img_array)\n",
        "#         predicted_digit = np.argmax(prediction)\n",
        "#         print(f\"Predicted Digit: {predicted_digit}\")\n",
        "\n",
        "\n",
        "\n",
        "\n"
      ],
      "metadata": {
        "id": "QF36BfaMt8KR"
      },
      "execution_count": 13,
      "outputs": []
    },
    {
      "cell_type": "code",
      "source": [
        "upload_and_predict(global_model)\n"
      ],
      "metadata": {
        "colab": {
          "base_uri": "https://localhost:8080/",
          "height": 108
        },
        "id": "0K6uLI8At-IL",
        "outputId": "7b93c364-3670-49b5-be98-210264f0a3de"
      },
      "execution_count": 14,
      "outputs": [
        {
          "output_type": "display_data",
          "data": {
            "text/plain": [
              "<IPython.core.display.HTML object>"
            ],
            "text/html": [
              "\n",
              "     <input type=\"file\" id=\"files-55b4db6c-eb34-4780-9102-43ff94d683a5\" name=\"files[]\" multiple disabled\n",
              "        style=\"border:none\" />\n",
              "     <output id=\"result-55b4db6c-eb34-4780-9102-43ff94d683a5\">\n",
              "      Upload widget is only available when the cell has been executed in the\n",
              "      current browser session. Please rerun this cell to enable.\n",
              "      </output>\n",
              "      <script>// Copyright 2017 Google LLC\n",
              "//\n",
              "// Licensed under the Apache License, Version 2.0 (the \"License\");\n",
              "// you may not use this file except in compliance with the License.\n",
              "// You may obtain a copy of the License at\n",
              "//\n",
              "//      http://www.apache.org/licenses/LICENSE-2.0\n",
              "//\n",
              "// Unless required by applicable law or agreed to in writing, software\n",
              "// distributed under the License is distributed on an \"AS IS\" BASIS,\n",
              "// WITHOUT WARRANTIES OR CONDITIONS OF ANY KIND, either express or implied.\n",
              "// See the License for the specific language governing permissions and\n",
              "// limitations under the License.\n",
              "\n",
              "/**\n",
              " * @fileoverview Helpers for google.colab Python module.\n",
              " */\n",
              "(function(scope) {\n",
              "function span(text, styleAttributes = {}) {\n",
              "  const element = document.createElement('span');\n",
              "  element.textContent = text;\n",
              "  for (const key of Object.keys(styleAttributes)) {\n",
              "    element.style[key] = styleAttributes[key];\n",
              "  }\n",
              "  return element;\n",
              "}\n",
              "\n",
              "// Max number of bytes which will be uploaded at a time.\n",
              "const MAX_PAYLOAD_SIZE = 100 * 1024;\n",
              "\n",
              "function _uploadFiles(inputId, outputId) {\n",
              "  const steps = uploadFilesStep(inputId, outputId);\n",
              "  const outputElement = document.getElementById(outputId);\n",
              "  // Cache steps on the outputElement to make it available for the next call\n",
              "  // to uploadFilesContinue from Python.\n",
              "  outputElement.steps = steps;\n",
              "\n",
              "  return _uploadFilesContinue(outputId);\n",
              "}\n",
              "\n",
              "// This is roughly an async generator (not supported in the browser yet),\n",
              "// where there are multiple asynchronous steps and the Python side is going\n",
              "// to poll for completion of each step.\n",
              "// This uses a Promise to block the python side on completion of each step,\n",
              "// then passes the result of the previous step as the input to the next step.\n",
              "function _uploadFilesContinue(outputId) {\n",
              "  const outputElement = document.getElementById(outputId);\n",
              "  const steps = outputElement.steps;\n",
              "\n",
              "  const next = steps.next(outputElement.lastPromiseValue);\n",
              "  return Promise.resolve(next.value.promise).then((value) => {\n",
              "    // Cache the last promise value to make it available to the next\n",
              "    // step of the generator.\n",
              "    outputElement.lastPromiseValue = value;\n",
              "    return next.value.response;\n",
              "  });\n",
              "}\n",
              "\n",
              "/**\n",
              " * Generator function which is called between each async step of the upload\n",
              " * process.\n",
              " * @param {string} inputId Element ID of the input file picker element.\n",
              " * @param {string} outputId Element ID of the output display.\n",
              " * @return {!Iterable<!Object>} Iterable of next steps.\n",
              " */\n",
              "function* uploadFilesStep(inputId, outputId) {\n",
              "  const inputElement = document.getElementById(inputId);\n",
              "  inputElement.disabled = false;\n",
              "\n",
              "  const outputElement = document.getElementById(outputId);\n",
              "  outputElement.innerHTML = '';\n",
              "\n",
              "  const pickedPromise = new Promise((resolve) => {\n",
              "    inputElement.addEventListener('change', (e) => {\n",
              "      resolve(e.target.files);\n",
              "    });\n",
              "  });\n",
              "\n",
              "  const cancel = document.createElement('button');\n",
              "  inputElement.parentElement.appendChild(cancel);\n",
              "  cancel.textContent = 'Cancel upload';\n",
              "  const cancelPromise = new Promise((resolve) => {\n",
              "    cancel.onclick = () => {\n",
              "      resolve(null);\n",
              "    };\n",
              "  });\n",
              "\n",
              "  // Wait for the user to pick the files.\n",
              "  const files = yield {\n",
              "    promise: Promise.race([pickedPromise, cancelPromise]),\n",
              "    response: {\n",
              "      action: 'starting',\n",
              "    }\n",
              "  };\n",
              "\n",
              "  cancel.remove();\n",
              "\n",
              "  // Disable the input element since further picks are not allowed.\n",
              "  inputElement.disabled = true;\n",
              "\n",
              "  if (!files) {\n",
              "    return {\n",
              "      response: {\n",
              "        action: 'complete',\n",
              "      }\n",
              "    };\n",
              "  }\n",
              "\n",
              "  for (const file of files) {\n",
              "    const li = document.createElement('li');\n",
              "    li.append(span(file.name, {fontWeight: 'bold'}));\n",
              "    li.append(span(\n",
              "        `(${file.type || 'n/a'}) - ${file.size} bytes, ` +\n",
              "        `last modified: ${\n",
              "            file.lastModifiedDate ? file.lastModifiedDate.toLocaleDateString() :\n",
              "                                    'n/a'} - `));\n",
              "    const percent = span('0% done');\n",
              "    li.appendChild(percent);\n",
              "\n",
              "    outputElement.appendChild(li);\n",
              "\n",
              "    const fileDataPromise = new Promise((resolve) => {\n",
              "      const reader = new FileReader();\n",
              "      reader.onload = (e) => {\n",
              "        resolve(e.target.result);\n",
              "      };\n",
              "      reader.readAsArrayBuffer(file);\n",
              "    });\n",
              "    // Wait for the data to be ready.\n",
              "    let fileData = yield {\n",
              "      promise: fileDataPromise,\n",
              "      response: {\n",
              "        action: 'continue',\n",
              "      }\n",
              "    };\n",
              "\n",
              "    // Use a chunked sending to avoid message size limits. See b/62115660.\n",
              "    let position = 0;\n",
              "    do {\n",
              "      const length = Math.min(fileData.byteLength - position, MAX_PAYLOAD_SIZE);\n",
              "      const chunk = new Uint8Array(fileData, position, length);\n",
              "      position += length;\n",
              "\n",
              "      const base64 = btoa(String.fromCharCode.apply(null, chunk));\n",
              "      yield {\n",
              "        response: {\n",
              "          action: 'append',\n",
              "          file: file.name,\n",
              "          data: base64,\n",
              "        },\n",
              "      };\n",
              "\n",
              "      let percentDone = fileData.byteLength === 0 ?\n",
              "          100 :\n",
              "          Math.round((position / fileData.byteLength) * 100);\n",
              "      percent.textContent = `${percentDone}% done`;\n",
              "\n",
              "    } while (position < fileData.byteLength);\n",
              "  }\n",
              "\n",
              "  // All done.\n",
              "  yield {\n",
              "    response: {\n",
              "      action: 'complete',\n",
              "    }\n",
              "  };\n",
              "}\n",
              "\n",
              "scope.google = scope.google || {};\n",
              "scope.google.colab = scope.google.colab || {};\n",
              "scope.google.colab._files = {\n",
              "  _uploadFiles,\n",
              "  _uploadFilesContinue,\n",
              "};\n",
              "})(self);\n",
              "</script> "
            ]
          },
          "metadata": {}
        },
        {
          "output_type": "stream",
          "name": "stdout",
          "text": [
            "Saving OIP.jpg to OIP (2).jpg\n",
            "1/1 [==============================] - 0s 76ms/step\n",
            "Predicted Digit: 5\n"
          ]
        }
      ]
    },
    {
      "cell_type": "markdown",
      "source": [
        "**Core Principles of Federated Learning for Privacy and Security:**\n",
        "**Local Data Stays Local:**\n",
        "\n",
        "In real-world FL, training data remains on the local device (e.g., a hospital's server). This means sensitive health data does not leave the premises, reducing the risk of data breaches during transfer.\n",
        "Code Context: In the example, each 'client' trains the model on their own data (client_model.fit(x, y, epochs=5)). In practice, this would happen on the client's local machine, not centrally.\n",
        "\n",
        "**Aggregated Model, Not Data:**\n",
        "\n",
        "Only the model parameters or updates (weights, gradients) are sent to the central server for aggregation, not the data itself.\n",
        "Code Context: The aggregation (global_weights[i] += np.array(weights)) happens without ever accessing the individual data points.\n",
        "\n",
        "**Reduced Risk of Data Exposure:**\n",
        "\n",
        "Since raw data is not pooled or shared, the risk of exposing patient data is significantly reduced. This is particularly important in healthcare, where data is highly sensitive.\n",
        "\n",
        "**Compliance with Regulations**:\n",
        "\n",
        "FL aligns with data privacy regulations like HIPAA (in the US), GDPR (in the EU), which mandate strict handling and sharing of personal data.\n",
        "Explanation: You can highlight that FL's design adheres to the principle of data minimization and privacy by design, key aspects of these regulations.\n",
        "\n",
        "**Enhancing the Privacy and Security Aspect:**\n",
        "To further emphasize the security aspect in healthcare applications, you can discuss additional measures that are typically integrated into FL systems:\n",
        "\n",
        "**Differential Privacy:**\n",
        "Techniques to ensure that the model updates shared with the server do not reveal information about individual data points.\n",
        "\n",
        "**Secure Aggregation:**\n",
        " Cryptographic techniques to securely aggregate model updates, ensuring that no single update can be inspected independently at the server.\n",
        "\n",
        "**Robustness to Attacks:** Implementing strategies to protect against potential attacks like model inversion or membership inference attacks.\n",
        "\n",
        "\n",
        "\n",
        "**Communicating with Healthcare Professionals:**\n",
        "When discussing with healthcare professionals, focus on:\n",
        "\n",
        "Patient Privacy: Emphasize how FL preserves patient confidentiality by not requiring data sharing.\n",
        "Regulatory Compliance: Highlight how FL's design is conducive to meeting strict healthcare data regulations.\n",
        "Real-world Examples: Reference existing FL projects in healthcare that have successfully managed to leverage data without compromising privacy."
      ],
      "metadata": {
        "id": "5s0tDO4rkD1K"
      }
    },
    {
      "cell_type": "markdown",
      "source": [
        "Federated Learning (FL) offers several significant benefits to organizations in the healthcare sector. Here's how it can help your organization:\n",
        "\n",
        "1. Enhanced Data Privacy and Security\n",
        "\n",
        "Local Data Processing: FL allows for the training of machine learning models directly on the devices or servers where the data is stored, without the need to transfer sensitive patient data.\n",
        "Compliance with Regulations: This approach aligns with strict healthcare data privacy regulations like HIPAA (US) and GDPR (Europe), as it minimizes the risk of data breaches and unauthorized access.\n",
        "\n",
        "2. Leveraging Diverse Data Sources Without Compromising Privacy\n",
        "\n",
        "Access to Varied Data: Healthcare data is diverse and often siloed in different institutions. FL enables your organization to benefit from this diverse data (different patient demographics, diseases, treatments) without the need for direct access or sharing of the data.\n",
        "Improved Model Robustness: Models trained on a wider variety of data can be more robust and generalize better, leading to improved diagnostic tools, predictive models, and patient care strategies.\n",
        "\n",
        "3. Collaboration and Research\n",
        "\n",
        "Collaborative Opportunities: FL facilitates collaboration with other healthcare institutions, research bodies, and pharmaceutical companies while maintaining data privacy. This can lead to more comprehensive research studies and shared insights.\n",
        "Cross-Institutional Learning: It allows for the collective improvement of algorithms and healthcare models without compromising the confidentiality of each institution's data.\n",
        "\n",
        "4. Cost-Effective and Efficient\n",
        "\n",
        "Reduced Data Transfer Costs: Since the data remains local, the costs and resources associated with data transfer and storage are significantly reduced.\n",
        "Utilization of Existing Infrastructure: FL can often be implemented using existing computational resources at each location, avoiding the need for significant infrastructure investments.\n",
        "\n",
        "5. Personalized and Precision Medicine\n",
        "\n",
        "Patient-Specific Insights: By learning from a wide range of patient data, FL can help in developing more personalized treatment plans and precision medicine approaches.\n",
        "Real-World Data Utilization: FL enables the use of real-world, multi-center data, which is crucial for personalized healthcare.\n",
        "\n",
        "6. Scalability and Adaptability\n",
        "\n",
        "Scalable to New Data Sources: As new data sources become available (e.g., new hospitals or wearable health devices), they can be easily integrated into the federated network.\n",
        "Adaptable Models: FL systems can continuously evolve and improve as they receive new data, ensuring that the models stay relevant and effective.\n",
        "\n",
        "7. Ethical Use of Data\n",
        "\n",
        "Promoting Ethical Standards: By prioritizing data privacy, FL aligns with the ethical considerations necessary in healthcare, fostering trust among patients and stakeholders.\n",
        "Conclusion\n",
        "For your organization, adopting Federated Learning could mean a significant step forward in utilizing advanced data analytics while upholding the highest standards of data privacy and security. It can lead to better patient outcomes, more efficient use of resources, and a stronger position in collaborative research and innovation in the healthcare sector.\n"
      ],
      "metadata": {
        "id": "RfrvWPmnnUB1"
      }
    },
    {
      "cell_type": "markdown",
      "source": [
        "1. Keeping Patient Information Safe\n",
        "Privacy First: Imagine each hospital has a lockbox (their database) with patient records. With FL, instead of sending these records out to study them, we send a smart tool to each lockbox. This tool learns from the records but doesn't take any away. This means patient information stays safe and private at the hospital.\n",
        "\n",
        "2. Learning from Many Hospitals Without Sharing Data\n",
        "\n",
        "Better Insights: If we learn a little from many hospitals, we get a bigger picture of patient health. FL does this without ever moving the patient records around. So, we understand more about different health conditions without risking patient privacy.\n",
        "\n",
        "3. Working Together While Keeping Secrets\n",
        "\n",
        "Collaboration Without Risk: Different hospitals can work together to improve health treatments. They do this by sharing what they learn (not the patient data) with a central system, which combines all the learnings. It's like sharing recipes without giving away the secret ingredients.\n",
        "\n",
        "4. No Need for Big Moves\n",
        "\n",
        "Cost and Efficiency: Since we're not moving around huge amounts of patient data, it's cheaper and easier. Hospitals use their existing computers and systems, so there's no need for big changes or expenses.\n",
        "\n",
        "5. Customized Healthcare\n",
        "\n",
        "Personalized Treatments: By learning from a wide range of patients, treatments can be more tailored to individual needs. It's like having a diet plan suited just for you, based on lots of successful diets.\n",
        "\n",
        "6. Easy to Grow and Change\n",
        "\n",
        "Flexible and Scalable: As new hospitals or clinics join in, they can easily be part of this learning network. Also, the system gets smarter over time as it learns more, just like a doctor who becomes more experienced.\n",
        "\n",
        "7. Doing the Right Thing\n",
        "\n",
        "Ethical Approach: This method is a good way to use technology responsibly in healthcare. Patients and the public can trust that their sensitive health information is being handled correctly.\n",
        "\n",
        "In Summary\n",
        "\n",
        "For your healthcare organization, Federated Learning is like having a network of hospitals sharing lessons learned without exchanging any patient details. It's a secure, smart, and cost-effective way to make healthcare better and more personalized."
      ],
      "metadata": {
        "id": "wYMQXm5FoBs7"
      }
    },
    {
      "cell_type": "markdown",
      "source": [
        "**Imagine a Cooking Contest**\n",
        "\n",
        "Scenario: Think of Federated Learning like a cooking contest happening in different kitchens across a city. Each kitchen (like a hospital or clinic) has its own unique set of ingredients (patient data).\n",
        "Learning Recipes Locally\n",
        "\n",
        "Cooking in Each Kitchen: Each chef (a machine learning model) in their kitchen (hospital/clinic) creates a recipe (a health prediction model) using only their ingredients (local patient data). They're trying to make the best dish (the most accurate health predictions) they can, but they only use what they have in their kitchen.\n",
        "\n",
        "Sharing the Cooking Experience, Not the Ingredients\n",
        "Sharing Tips Without Giving Ingredients: After some trial and error, each chef finds some tricks that make their recipe better. They share these tips (model learnings) with a master chef (central server). Importantly, they don’t send any of their actual ingredients (patient data); they just send their cooking tips.\n",
        "\n",
        "Creating a Master Recipe\n",
        "Combining All Tips: The master chef (central server) takes all these tips and combines them to create a master recipe. This recipe now includes the wisdom from all the individual kitchens but none of their specific ingredients.\n",
        "\n",
        "Sending Back the Improved Recipe\n",
        "Improving Local Dishes: The master chef sends back this improved master recipe to each kitchen. Now, each chef updates their local recipe with these new insights. This way, every kitchen benefits from the shared knowledge without having ever exchanged their unique ingredients.\n",
        "\n",
        "The Result\n",
        "Better Dishes Everywhere: Each kitchen ends up with a better recipe than they could have made on their own, all without sharing their individual, unique ingredients. In healthcare, this means better health predictions and treatments developed without ever sharing patient data.\n",
        "\n",
        "Summary\n",
        "In Federated Learning, everyone learns more and gets better results by sharing their experience, not their data. It's a way of making sure sensitive information (like patient health records) stays private while still benefiting from shared knowledge."
      ],
      "metadata": {
        "id": "05YErefforop"
      }
    },
    {
      "cell_type": "code",
      "source": [],
      "metadata": {
        "id": "v9_ppbdLj9ZM"
      },
      "execution_count": null,
      "outputs": []
    }
  ]
}